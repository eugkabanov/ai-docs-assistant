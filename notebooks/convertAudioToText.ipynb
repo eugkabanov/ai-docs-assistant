{
 "cells": [
  {
   "attachments": {},
   "cell_type": "markdown",
   "metadata": {},
   "source": [
    "# Transcribe Audio to Text\n",
    "\n",
    "The OpenAI audio transcribe API will be used to transcribe the mp3 files into text, which will then be used by the chatbot to provide answers to user queries."
   ]
  },
  {
   "attachments": {},
   "cell_type": "markdown",
   "metadata": {},
   "source": [
    "Initialize imports and environment variables"
   ]
  },
  {
   "cell_type": "code",
   "execution_count": 2,
   "metadata": {},
   "outputs": [],
   "source": [
    "import openai\n",
    "from dotenv import load_dotenv\n",
    "import os\n",
    "\n",
    "# Load environment variables from .env file\n",
    "load_dotenv()\n",
    "\n",
    "# Set OpenAI API key from environment variable\n",
    "openai.api_key = os.getenv(\"OPENAI_API_KEY\")\n",
    "\n",
    "# Specify the folder containing the audio files to transcribe\n",
    "audio_folder = \"/Users/eugkabanov/Downloads/af_marketing_audio\"\n",
    "\n",
    "# Set the path to the output file\n",
    "output_file = \"../data/transcriptions.txt\"\n"
   ]
  },
  {
   "attachments": {},
   "cell_type": "markdown",
   "metadata": {},
   "source": [
    "Now transcribe audio to text using the OpenAI Audio Transcribe API"
   ]
  },
  {
   "cell_type": "code",
   "execution_count": 5,
   "metadata": {},
   "outputs": [],
   "source": [
    "# Set the model ID\n",
    "model_id = \"whisper-1\"\n",
    "\n",
    "# Initialize the output file\n",
    "with open(output_file, \"w\") as f:\n",
    "    f.write(\"\")\n",
    "\n",
    "# Iterate through each file in the folder\n",
    "for file_name in os.listdir(audio_folder):\n",
    "    file_path = os.path.join(audio_folder, file_name)\n",
    "\n",
    "    # Check if the file is an mp3 file\n",
    "    if file_name.endswith(\".mp3\"):\n",
    "        # Load the mp3 file using openai\n",
    "        with open(file_path, \"rb\") as audio_file:\n",
    "            response = openai.Audio.transcribe(model_id, audio_file)\n",
    "\n",
    "        # Write the transcription to the output file\n",
    "        with open(output_file, \"a\") as f:\n",
    "            f.write(response[\"text\"] + \"\\n\")\n"
   ]
  }
 ],
 "metadata": {
  "kernelspec": {
   "display_name": "venv",
   "language": "python",
   "name": "python3"
  },
  "language_info": {
   "codemirror_mode": {
    "name": "ipython",
    "version": 3
   },
   "file_extension": ".py",
   "mimetype": "text/x-python",
   "name": "python",
   "nbconvert_exporter": "python",
   "pygments_lexer": "ipython3",
   "version": "3.9.6"
  },
  "orig_nbformat": 4
 },
 "nbformat": 4,
 "nbformat_minor": 2
}
