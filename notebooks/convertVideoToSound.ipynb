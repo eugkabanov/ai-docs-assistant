{
 "cells": [
  {
   "attachments": {},
   "cell_type": "markdown",
   "metadata": {},
   "source": [
    "# Convert Video Previews\n",
    "\n",
    "Video previews in mp4 format will be converted to mp3 format using a suitable Python package. For this purpose, the package `pydub` is used."
   ]
  },
  {
   "attachments": {},
   "cell_type": "markdown",
   "metadata": {},
   "source": [
    "Import the necessary packages and set the path to the input and output folders."
   ]
  },
  {
   "cell_type": "code",
   "execution_count": 2,
   "metadata": {},
   "outputs": [],
   "source": [
    "# Import the necessary modules for the conversion process\n",
    "import os\n",
    "from pydub import AudioSegment\n",
    "\n",
    "# Set the path to the folder containing video files\n",
    "video_folder = \"/Users/msheleg/Public/af_marketing\"\n",
    "\n",
    "# Set the path for the converted audio files\n",
    "audio_folder = \"/Users/eugkabanov/Downloads/af_marketing_audio\"\n"
   ]
  },
  {
   "attachments": {},
   "cell_type": "markdown",
   "metadata": {},
   "source": [
    "This code block will loop through each file in the video folder and check if it is a video file based on the file extension. It will then set the paths for the input video file and the output audio file using the os module, load the video clip using AudioSegment, and extract the audio from the clip using the export method, which saves the audio clip in mp3 format with the same filename as the input video file."
   ]
  },
  {
   "cell_type": "code",
   "execution_count": 3,
   "metadata": {},
   "outputs": [],
   "source": [
    "# Loop through each file in the video folder\n",
    "for filename in os.listdir(video_folder):\n",
    "\n",
    "    # Check if the file is a video file\n",
    "    if filename.endswith(\".mp4\"):\n",
    "\n",
    "        # Set the paths for the input video file and the output audio file\n",
    "        video_path = os.path.join(video_folder, filename)\n",
    "        audio_path = os.path.join(audio_folder, os.path.splitext(filename)[0] + \".mp3\")\n",
    "\n",
    "        # Load the video clip using pydub\n",
    "        video_clip = AudioSegment.from_file(video_path, format=\"mp4\")\n",
    "\n",
    "        # Extract the audio from the video clip and save it in mp3 format\n",
    "        audio_clip = video_clip.export(audio_path, format=\"mp3\")"
   ]
  },
  {
   "attachments": {},
   "cell_type": "markdown",
   "metadata": {},
   "source": [
    "Now we will find all files in `audio_path` folder that exceed 25 Mb limit and split them to chunks with max size of 25 Mb. It's limitation of the Whisper model."
   ]
  },
  {
   "cell_type": "code",
   "execution_count": 17,
   "metadata": {},
   "outputs": [
    {
     "name": "stdout",
     "output_type": "stream",
     "text": [
      "Chunk 1: 0 - 1500000\n",
      "Chunk 2: 1500000 - 3000000\n",
      "Chunk 3: 3000000 - 3067472\n"
     ]
    }
   ],
   "source": [
    "# Set the maximum size limit for the audio files (25 Mb in this case)\n",
    "max_size_bytes = 24 * 1024 * 1024\n",
    "max_size = 1500000\n",
    "\n",
    "# Iterate through each file in the folder\n",
    "for file_name in os.listdir(audio_folder):\n",
    "    file_path = os.path.join(audio_folder, file_name)\n",
    "\n",
    "    # Check if the file is an mp3 file and its size exceeds the maximum limit\n",
    "    if file_name.endswith(\".mp3\") and os.path.getsize(file_path) > max_size_bytes:\n",
    "        # Load the mp3 file using pydub\n",
    "        audio = AudioSegment.from_file(file_path, format=\"mp3\")\n",
    "\n",
    "        # Calculate the maximum size limit for the audio files in milliseconds\n",
    "        duration_s = int(len(audio))\n",
    "\n",
    "        # Calculate the number of chunks required to split the file\n",
    "        num_chunks = (duration_s // max_size) + 1\n",
    "\n",
    "        # Split the file into chunks and save them to the same folder\n",
    "        for i in range(num_chunks):\n",
    "            start = i * max_size\n",
    "            end = (i + 1) * max_size\n",
    "\n",
    "            # Set the end index to the last byte of the file if it exceeds the file size\n",
    "            if end > duration_s:\n",
    "                end = duration_s\n",
    "\n",
    "            # Extract the chunk of audio and save it to a new file with a suffix indicating the chunk number\n",
    "            chunk = audio[start:end]\n",
    "            chunk.export(f\"{file_path[:-4]}_chunk{i+1}.mp3\", format=\"mp3\")\n",
    "\n",
    "        # Remove the original file\n",
    "        os.remove(file_path)\n"
   ]
  },
  {
   "attachments": {},
   "cell_type": "markdown",
   "metadata": {},
   "source": [
    "That's it! Now you have all data converted and splitted to 25 Mb chunks.\n"
   ]
  }
 ],
 "metadata": {
  "kernelspec": {
   "display_name": "venv",
   "language": "python",
   "name": "python3"
  },
  "language_info": {
   "codemirror_mode": {
    "name": "ipython",
    "version": 3
   },
   "file_extension": ".py",
   "mimetype": "text/x-python",
   "name": "python",
   "nbconvert_exporter": "python",
   "pygments_lexer": "ipython3",
   "version": "3.9.6"
  },
  "orig_nbformat": 4
 },
 "nbformat": 4,
 "nbformat_minor": 2
}
